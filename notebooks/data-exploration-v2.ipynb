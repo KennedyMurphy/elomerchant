{
 "cells": [
  {
   "cell_type": "code",
   "execution_count": 1,
   "metadata": {},
   "outputs": [],
   "source": [
    "import pandas as pd\n",
    "import numpy as np\n",
    "import featuretools as ft\n",
    "import gc\n",
    "\n",
    "TRANSACTION_LOAD_DTYPES = {\n",
    "    'authorized_flag': 'object',\n",
    "    'card_id': 'object',\n",
    "    'city_id': 'int64',\n",
    "    'category_1': 'category',\n",
    "    'installments': 'int64',\n",
    "    'category_3': 'category',\n",
    "    'merchant_category_id': 'int64',\n",
    "    'merchant_id': 'object',\n",
    "    'month_lag': 'int64',\n",
    "    'purchase_amount': 'float64',\n",
    "    'category_2': 'category',\n",
    "    'state_id': 'int64',\n",
    "    'subsector_id': 'int64'\n",
    "}\n",
    "\n",
    "\n",
    "\n",
    "CARD_TYPES = {\n",
    "    'feature_1': ft.variable_types.Categorical,\n",
    "    'feature_2': ft.variable_types.Categorical,\n",
    "    'feature_3': ft.variable_types.Categorical\n",
    "}\n",
    "\n",
    "TRANSACTION_TYPES = {\n",
    "    'authorized_flag': ft.variable_types.Numeric,\n",
    "    'category_1': ft.variable_types.Categorical,\n",
    "    'category_2': ft.variable_types.Categorical,\n",
    "    'category_3': ft.variable_types.Categorical,\n",
    "    'installments': ft.variable_types.Numeric,\n",
    "    'merchant_category_id': ft.variable_types.Categorical,\n",
    "    'month_lag': ft.variable_types.Numeric,\n",
    "    'purchase_amount': ft.variable_types.Numeric,\n",
    "    'state_id': ft.variable_types.Categorical,\n",
    "    'subsector_id': ft.variable_types.Categorical\n",
    "}"
   ]
  },
  {
   "cell_type": "code",
   "execution_count": 3,
   "metadata": {},
   "outputs": [
    {
     "name": "stdout",
     "output_type": "stream",
     "text": [
      "Reading in transactions\n",
      "Creating training entity set\n"
     ]
    },
    {
     "ename": "NameError",
     "evalue": "name 'gc' is not defined",
     "output_type": "error",
     "traceback": [
      "\u001b[0;31m---------------------------------------------------------------------------\u001b[0m",
      "\u001b[0;31mNameError\u001b[0m                                 Traceback (most recent call last)",
      "\u001b[0;32m<ipython-input-3-ddd7cb25094c>\u001b[0m in \u001b[0;36m<module>\u001b[0;34m\u001b[0m\n\u001b[1;32m     25\u001b[0m \u001b[0;34m\u001b[0m\u001b[0m\n\u001b[1;32m     26\u001b[0m \u001b[0;32mdel\u001b[0m \u001b[0mcustomer_df\u001b[0m\u001b[0;34m,\u001b[0m \u001b[0mtransactions_df\u001b[0m\u001b[0;34m\u001b[0m\u001b[0;34m\u001b[0m\u001b[0m\n\u001b[0;32m---> 27\u001b[0;31m \u001b[0mgc\u001b[0m\u001b[0;34m.\u001b[0m\u001b[0mcollect\u001b[0m\u001b[0;34m(\u001b[0m\u001b[0;34m)\u001b[0m\u001b[0;34m\u001b[0m\u001b[0;34m\u001b[0m\u001b[0m\n\u001b[0m\u001b[1;32m     28\u001b[0m \u001b[0;34m\u001b[0m\u001b[0m\n\u001b[1;32m     29\u001b[0m \u001b[0mprint\u001b[0m\u001b[0;34m(\u001b[0m\u001b[0;34m\"Defining relationships\"\u001b[0m\u001b[0;34m)\u001b[0m\u001b[0;34m\u001b[0m\u001b[0;34m\u001b[0m\u001b[0m\n",
      "\u001b[0;31mNameError\u001b[0m: name 'gc' is not defined"
     ]
    }
   ],
   "source": [
    "customer_df = pd.read_csv(\"../data/raw/train.csv\")\n",
    "customer_df['first_active_month'] = pd.to_datetime(customer_df['first_active_month'] + \"-01\")\n",
    "\n",
    "print(\"Reading in transactions\")\n",
    "transactions_df = pd.read_csv(\"../data/raw/historical_transactions.csv\", dtype=TRANSACTION_LOAD_DTYPES)\n",
    "transactions_df['authorized_flag'] = np.where(transactions_df['authorized_flag'] == 'Y', 1, 0)\n",
    "transactions_df.reset_index(inplace=True)\n",
    "\n",
    "print(\"Creating training entity set\")\n",
    "es = ft.EntitySet()\n",
    "es = es.entity_from_dataframe(\n",
    "    entity_id='customer', \n",
    "    dataframe=customer_df,\n",
    "    index='card_id',\n",
    "    time_index='first_active_month',\n",
    "    variable_types=CARD_TYPES\n",
    ")\n",
    "\n",
    "es = es.entity_from_dataframe(\n",
    "    entity_id='transactions',\n",
    "    dataframe=transactions_df,\n",
    "    index='index',\n",
    "    variable_types=TRANSACTION_TYPES\n",
    ")\n",
    "\n",
    "del customer_df, transactions_df\n",
    "gc.collect()\n",
    "\n",
    "print(\"Defining relationships\")\n",
    "relationship = ft.Relationship(es['customer']['card_id'],\n",
    "                                es['transactions']['card_id'])\n",
    "\n",
    "es = es.add_relationship(relationship)\n",
    "\n",
    "feature_matrix, feature_defs = ft.dfs(entityset=es, target_entity='customer')"
   ]
  },
  {
   "cell_type": "code",
   "execution_count": null,
   "metadata": {},
   "outputs": [],
   "source": []
  }
 ],
 "metadata": {
  "kernelspec": {
   "display_name": "Python 3",
   "language": "python",
   "name": "python3"
  },
  "language_info": {
   "codemirror_mode": {
    "name": "ipython",
    "version": 3
   },
   "file_extension": ".py",
   "mimetype": "text/x-python",
   "name": "python",
   "nbconvert_exporter": "python",
   "pygments_lexer": "ipython3",
   "version": "3.7.2"
  }
 },
 "nbformat": 4,
 "nbformat_minor": 2
}
