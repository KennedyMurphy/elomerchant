{
 "cells": [
  {
   "cell_type": "code",
   "execution_count": 1,
   "metadata": {},
   "outputs": [],
   "source": [
    "import pandas as pd\n",
    "import numpy as np\n",
    "import seaborn as sns\n",
    "import matplotlib.pyplot as plt\n",
    "from sklearn.linear_model import LinearRegression\n",
    "from sklearn.feature_selection import RFE\n",
    "from sklearn.metrics import mean_absolute_error, mean_squared_error"
   ]
  },
  {
   "cell_type": "code",
   "execution_count": 2,
   "metadata": {},
   "outputs": [],
   "source": [
    "feats = pd.read_csv(\"../data/processed/train_features.csv\")\n",
    "target = pd.read_csv(\"../data/processed/train_target.csv\")\n",
    "\n",
    "feats.set_index('card_id', inplace=True)\n",
    "target.set_index('card_id', inplace=True)"
   ]
  },
  {
   "cell_type": "code",
   "execution_count": 3,
   "metadata": {},
   "outputs": [
    {
     "data": {
      "image/png": "[encoded data removed]",
      "text/plain": [
       "<Figure size 432x288 with 1 Axes>"
      ]
     },
     "metadata": {},
     "output_type": "display_data"
    }
   ],
   "source": [
    "sns.set()\n",
    "ax = sns.distplot(target)"
   ]
  },
  {
   "cell_type": "code",
   "execution_count": 28,
   "metadata": {},
   "outputs": [
    {
     "data": {
      "image/png": "[encoded data removed]",
      "text/plain": [
       "<Figure size 432x288 with 1 Axes>"
      ]
     },
     "metadata": {},
     "output_type": "display_data"
    }
   ],
   "source": [
    "m, sd = target.agg(['mean', 'std']).values\n",
    "\n",
    "outliers = (target < m - 5 * sd) | (target > m + 5 * sd)\n",
    "\n",
    "sns.set()\n",
    "ax = sns.distplot(target[~outliers.values])"
   ]
  },
  {
   "cell_type": "code",
   "execution_count": 15,
   "metadata": {},
   "outputs": [
    {
     "data": {
      "text/html": [
       "<div>\n",
       "<style scoped>\n",
       "    .dataframe tbody tr th:only-of-type {\n",
       "        vertical-align: middle;\n",
       "    }\n",
       "\n",
       "    .dataframe tbody tr th {\n",
       "        vertical-align: top;\n",
       "    }\n",
       "\n",
       "    .dataframe thead th {\n",
       "        text-align: right;\n",
       "    }\n",
       "</style>\n",
       "<table border=\"1\" class=\"dataframe\">\n",
       "  <thead>\n",
       "    <tr style=\"text-align: right;\">\n",
       "      <th></th>\n",
       "      <th>count</th>\n",
       "      <th>mean</th>\n",
       "      <th>std</th>\n",
       "      <th>min</th>\n",
       "      <th>25%</th>\n",
       "      <th>50%</th>\n",
       "      <th>75%</th>\n",
       "      <th>max</th>\n",
       "    </tr>\n",
       "  </thead>\n",
       "  <tbody>\n",
       "    <tr>\n",
       "      <th>YEAR(first_active_month) = 2017</th>\n",
       "      <td>1501.0</td>\n",
       "      <td>0.449034</td>\n",
       "      <td>0.497561</td>\n",
       "      <td>0.0</td>\n",
       "      <td>0.0</td>\n",
       "      <td>0.0</td>\n",
       "      <td>1.0</td>\n",
       "      <td>1.0</td>\n",
       "    </tr>\n",
       "    <tr>\n",
       "      <th>YEAR(first_active_month) = 2016</th>\n",
       "      <td>1501.0</td>\n",
       "      <td>0.373751</td>\n",
       "      <td>0.483960</td>\n",
       "      <td>0.0</td>\n",
       "      <td>0.0</td>\n",
       "      <td>0.0</td>\n",
       "      <td>1.0</td>\n",
       "      <td>1.0</td>\n",
       "    </tr>\n",
       "    <tr>\n",
       "      <th>YEAR(first_active_month) = 2015</th>\n",
       "      <td>1501.0</td>\n",
       "      <td>0.113924</td>\n",
       "      <td>0.317825</td>\n",
       "      <td>0.0</td>\n",
       "      <td>0.0</td>\n",
       "      <td>0.0</td>\n",
       "      <td>0.0</td>\n",
       "      <td>1.0</td>\n",
       "    </tr>\n",
       "    <tr>\n",
       "      <th>YEAR(first_active_month) = 2014</th>\n",
       "      <td>1501.0</td>\n",
       "      <td>0.047302</td>\n",
       "      <td>0.212354</td>\n",
       "      <td>0.0</td>\n",
       "      <td>0.0</td>\n",
       "      <td>0.0</td>\n",
       "      <td>0.0</td>\n",
       "      <td>1.0</td>\n",
       "    </tr>\n",
       "    <tr>\n",
       "      <th>YEAR(first_active_month) = 2013</th>\n",
       "      <td>1501.0</td>\n",
       "      <td>0.011992</td>\n",
       "      <td>0.108886</td>\n",
       "      <td>0.0</td>\n",
       "      <td>0.0</td>\n",
       "      <td>0.0</td>\n",
       "      <td>0.0</td>\n",
       "      <td>1.0</td>\n",
       "    </tr>\n",
       "    <tr>\n",
       "      <th>YEAR(first_active_month) = 2012</th>\n",
       "      <td>1501.0</td>\n",
       "      <td>0.003997</td>\n",
       "      <td>0.063119</td>\n",
       "      <td>0.0</td>\n",
       "      <td>0.0</td>\n",
       "      <td>0.0</td>\n",
       "      <td>0.0</td>\n",
       "      <td>1.0</td>\n",
       "    </tr>\n",
       "    <tr>\n",
       "      <th>YEAR(first_active_month) = 2018</th>\n",
       "      <td>1501.0</td>\n",
       "      <td>0.000000</td>\n",
       "      <td>0.000000</td>\n",
       "      <td>0.0</td>\n",
       "      <td>0.0</td>\n",
       "      <td>0.0</td>\n",
       "      <td>0.0</td>\n",
       "      <td>0.0</td>\n",
       "    </tr>\n",
       "    <tr>\n",
       "      <th>YEAR(first_active_month) = 2011</th>\n",
       "      <td>1501.0</td>\n",
       "      <td>0.000000</td>\n",
       "      <td>0.000000</td>\n",
       "      <td>0.0</td>\n",
       "      <td>0.0</td>\n",
       "      <td>0.0</td>\n",
       "      <td>0.0</td>\n",
       "      <td>0.0</td>\n",
       "    </tr>\n",
       "  </tbody>\n",
       "</table>\n",
       "</div>"
      ],
      "text/plain": [
       "                                  count      mean       std  min  25%  50%  \\\n",
       "YEAR(first_active_month) = 2017  1501.0  0.449034  0.497561  0.0  0.0  0.0   \n",
       "YEAR(first_active_month) = 2016  1501.0  0.373751  0.483960  0.0  0.0  0.0   \n",
       "YEAR(first_active_month) = 2015  1501.0  0.113924  0.317825  0.0  0.0  0.0   \n",
       "YEAR(first_active_month) = 2014  1501.0  0.047302  0.212354  0.0  0.0  0.0   \n",
       "YEAR(first_active_month) = 2013  1501.0  0.011992  0.108886  0.0  0.0  0.0   \n",
       "YEAR(first_active_month) = 2012  1501.0  0.003997  0.063119  0.0  0.0  0.0   \n",
       "YEAR(first_active_month) = 2018  1501.0  0.000000  0.000000  0.0  0.0  0.0   \n",
       "YEAR(first_active_month) = 2011  1501.0  0.000000  0.000000  0.0  0.0  0.0   \n",
       "\n",
       "                                 75%  max  \n",
       "YEAR(first_active_month) = 2017  1.0  1.0  \n",
       "YEAR(first_active_month) = 2016  1.0  1.0  \n",
       "YEAR(first_active_month) = 2015  0.0  1.0  \n",
       "YEAR(first_active_month) = 2014  0.0  1.0  \n",
       "YEAR(first_active_month) = 2013  0.0  1.0  \n",
       "YEAR(first_active_month) = 2012  0.0  1.0  \n",
       "YEAR(first_active_month) = 2018  0.0  0.0  \n",
       "YEAR(first_active_month) = 2011  0.0  0.0  "
      ]
     },
     "execution_count": 15,
     "metadata": {},
     "output_type": "execute_result"
    }
   ],
   "source": [
    "desc = feats.loc[feats.index.isin(target[target['target'] < -30].index.values)].describe()\n",
    "\n",
    "# desc[desc['std'] == 0]\n",
    "desc[[c for c in desc.columns if 'YEAR(first_active_month) =' in c]].T"
   ]
  },
  {
   "cell_type": "code",
   "execution_count": 16,
   "metadata": {},
   "outputs": [
    {
     "data": {
      "text/html": [
       "<div>\n",
       "<style scoped>\n",
       "    .dataframe tbody tr th:only-of-type {\n",
       "        vertical-align: middle;\n",
       "    }\n",
       "\n",
       "    .dataframe tbody tr th {\n",
       "        vertical-align: top;\n",
       "    }\n",
       "\n",
       "    .dataframe thead th {\n",
       "        text-align: right;\n",
       "    }\n",
       "</style>\n",
       "<table border=\"1\" class=\"dataframe\">\n",
       "  <thead>\n",
       "    <tr style=\"text-align: right;\">\n",
       "      <th></th>\n",
       "      <th>count</th>\n",
       "      <th>mean</th>\n",
       "      <th>std</th>\n",
       "      <th>min</th>\n",
       "      <th>25%</th>\n",
       "      <th>50%</th>\n",
       "      <th>75%</th>\n",
       "      <th>max</th>\n",
       "    </tr>\n",
       "  </thead>\n",
       "  <tbody>\n",
       "    <tr>\n",
       "      <th>YEAR(first_active_month) = 2017</th>\n",
       "      <td>163832.0</td>\n",
       "      <td>0.648243</td>\n",
       "      <td>0.477520</td>\n",
       "      <td>0.0</td>\n",
       "      <td>0.0</td>\n",
       "      <td>1.0</td>\n",
       "      <td>1.0</td>\n",
       "      <td>1.0</td>\n",
       "    </tr>\n",
       "    <tr>\n",
       "      <th>YEAR(first_active_month) = 2016</th>\n",
       "      <td>163832.0</td>\n",
       "      <td>0.252405</td>\n",
       "      <td>0.434394</td>\n",
       "      <td>0.0</td>\n",
       "      <td>0.0</td>\n",
       "      <td>0.0</td>\n",
       "      <td>1.0</td>\n",
       "      <td>1.0</td>\n",
       "    </tr>\n",
       "    <tr>\n",
       "      <th>YEAR(first_active_month) = 2015</th>\n",
       "      <td>163832.0</td>\n",
       "      <td>0.070115</td>\n",
       "      <td>0.255341</td>\n",
       "      <td>0.0</td>\n",
       "      <td>0.0</td>\n",
       "      <td>0.0</td>\n",
       "      <td>0.0</td>\n",
       "      <td>1.0</td>\n",
       "    </tr>\n",
       "    <tr>\n",
       "      <th>YEAR(first_active_month) = 2014</th>\n",
       "      <td>163832.0</td>\n",
       "      <td>0.022358</td>\n",
       "      <td>0.147846</td>\n",
       "      <td>0.0</td>\n",
       "      <td>0.0</td>\n",
       "      <td>0.0</td>\n",
       "      <td>0.0</td>\n",
       "      <td>1.0</td>\n",
       "    </tr>\n",
       "    <tr>\n",
       "      <th>YEAR(first_active_month) = 2013</th>\n",
       "      <td>163832.0</td>\n",
       "      <td>0.005384</td>\n",
       "      <td>0.073175</td>\n",
       "      <td>0.0</td>\n",
       "      <td>0.0</td>\n",
       "      <td>0.0</td>\n",
       "      <td>0.0</td>\n",
       "      <td>1.0</td>\n",
       "    </tr>\n",
       "    <tr>\n",
       "      <th>YEAR(first_active_month) = 2012</th>\n",
       "      <td>163832.0</td>\n",
       "      <td>0.001282</td>\n",
       "      <td>0.035779</td>\n",
       "      <td>0.0</td>\n",
       "      <td>0.0</td>\n",
       "      <td>0.0</td>\n",
       "      <td>0.0</td>\n",
       "      <td>1.0</td>\n",
       "    </tr>\n",
       "    <tr>\n",
       "      <th>YEAR(first_active_month) = 2018</th>\n",
       "      <td>163832.0</td>\n",
       "      <td>0.000171</td>\n",
       "      <td>0.013072</td>\n",
       "      <td>0.0</td>\n",
       "      <td>0.0</td>\n",
       "      <td>0.0</td>\n",
       "      <td>0.0</td>\n",
       "      <td>1.0</td>\n",
       "    </tr>\n",
       "    <tr>\n",
       "      <th>YEAR(first_active_month) = 2011</th>\n",
       "      <td>163832.0</td>\n",
       "      <td>0.000043</td>\n",
       "      <td>0.006536</td>\n",
       "      <td>0.0</td>\n",
       "      <td>0.0</td>\n",
       "      <td>0.0</td>\n",
       "      <td>0.0</td>\n",
       "      <td>1.0</td>\n",
       "    </tr>\n",
       "  </tbody>\n",
       "</table>\n",
       "</div>"
      ],
      "text/plain": [
       "                                    count      mean       std  min  25%  50%  \\\n",
       "YEAR(first_active_month) = 2017  163832.0  0.648243  0.477520  0.0  0.0  1.0   \n",
       "YEAR(first_active_month) = 2016  163832.0  0.252405  0.434394  0.0  0.0  0.0   \n",
       "YEAR(first_active_month) = 2015  163832.0  0.070115  0.255341  0.0  0.0  0.0   \n",
       "YEAR(first_active_month) = 2014  163832.0  0.022358  0.147846  0.0  0.0  0.0   \n",
       "YEAR(first_active_month) = 2013  163832.0  0.005384  0.073175  0.0  0.0  0.0   \n",
       "YEAR(first_active_month) = 2012  163832.0  0.001282  0.035779  0.0  0.0  0.0   \n",
       "YEAR(first_active_month) = 2018  163832.0  0.000171  0.013072  0.0  0.0  0.0   \n",
       "YEAR(first_active_month) = 2011  163832.0  0.000043  0.006536  0.0  0.0  0.0   \n",
       "\n",
       "                                 75%  max  \n",
       "YEAR(first_active_month) = 2017  1.0  1.0  \n",
       "YEAR(first_active_month) = 2016  1.0  1.0  \n",
       "YEAR(first_active_month) = 2015  0.0  1.0  \n",
       "YEAR(first_active_month) = 2014  0.0  1.0  \n",
       "YEAR(first_active_month) = 2013  0.0  1.0  \n",
       "YEAR(first_active_month) = 2012  0.0  1.0  \n",
       "YEAR(first_active_month) = 2018  0.0  1.0  \n",
       "YEAR(first_active_month) = 2011  0.0  1.0  "
      ]
     },
     "execution_count": 16,
     "metadata": {},
     "output_type": "execute_result"
    }
   ],
   "source": [
    "desc = feats.loc[~feats.index.isin(target[target['target'] < -30].index.values)].describe()\n",
    "\n",
    "# desc[desc['std'] == 0]\n",
    "desc[[c for c in desc.columns if 'YEAR(first_active_month) =' in c]].T"
   ]
  },
  {
   "cell_type": "code",
   "execution_count": 4,
   "metadata": {},
   "outputs": [],
   "source": [
    "X = feats.values\n",
    "y = target.values.reshape(-1)"
   ]
  },
  {
   "cell_type": "markdown",
   "metadata": {},
   "source": [
    "# 10 Feature perceptron"
   ]
  },
  {
   "cell_type": "code",
   "execution_count": 5,
   "metadata": {},
   "outputs": [],
   "source": [
    "regr = LinearRegression()\n",
    "selector = RFE(regr, 10, step=1, verbose=0)"
   ]
  },
  {
   "cell_type": "code",
   "execution_count": 6,
   "metadata": {},
   "outputs": [
    {
     "name": "stderr",
     "output_type": "stream",
     "text": [
      "/Users/kennedymurphy/elo/lib/python3.7/site-packages/sklearn/linear_model/base.py:485: RuntimeWarning: internal gelsd driver lwork query error, required iwork dimension not returned. This is likely the result of LAPACK bug 0038, fixed in LAPACK 3.2.2 (released July 21, 2010). Falling back to 'gelss' driver.\n",
      "  linalg.lstsq(X, y)\n"
     ]
    },
    {
     "data": {
      "text/plain": [
       "RFE(estimator=LinearRegression(copy_X=True, fit_intercept=True, n_jobs=None,\n",
       "         normalize=False),\n",
       "  n_features_to_select=10, step=1, verbose=0)"
      ]
     },
     "execution_count": 6,
     "metadata": {},
     "output_type": "execute_result"
    }
   ],
   "source": [
    "selector.fit(X, y)"
   ]
  },
  {
   "cell_type": "code",
   "execution_count": 7,
   "metadata": {},
   "outputs": [],
   "source": [
    "usecols = feats.columns[selector.support_]\n",
    "X = X[:, selector.support_]\n",
    "\n",
    "num_inputs = X.shape[1]"
   ]
  },
  {
   "cell_type": "code",
   "execution_count": 8,
   "metadata": {},
   "outputs": [
    {
     "data": {
      "text/plain": [
       "LinearRegression(copy_X=True, fit_intercept=True, n_jobs=None,\n",
       "         normalize=False)"
      ]
     },
     "execution_count": 8,
     "metadata": {},
     "output_type": "execute_result"
    }
   ],
   "source": [
    "# model = Sequential()\n",
    "# model.add(Dense(batch_size, input_dim=num_inputs, kernel_initializer='normal', activation='relu'))\n",
    "# model.add(Dense(num_outputs, kernel_initializer='normal'))\n",
    "# # Compile model\n",
    "# model.compile(optimizer='rmsprop', loss='mse')\n",
    "\n",
    "# print(f\"Starting training process with epochs:{epochs} & batch size:{batch_size}\")\n",
    "# model.fit(X, y, epochs=epochs, batch_size=batch_size)\n",
    "\n",
    "model = LinearRegression()\n",
    "model.fit(X, y)"
   ]
  },
  {
   "cell_type": "markdown",
   "metadata": {},
   "source": [
    "## Validation"
   ]
  },
  {
   "cell_type": "code",
   "execution_count": 9,
   "metadata": {},
   "outputs": [],
   "source": [
    "val_feats = pd.read_csv(\"../data/processed/validation_features.csv\", usecols=usecols)\n",
    "val_target = pd.read_csv(\"../data/processed/validation_target.csv\")\n",
    "\n",
    "X_val = val_feats.values\n",
    "y_val = val_target.target.values\n",
    "\n",
    "y_pred = model.predict(X_val)"
   ]
  },
  {
   "cell_type": "code",
   "execution_count": 10,
   "metadata": {},
   "outputs": [
    {
     "name": "stdout",
     "output_type": "stream",
     "text": [
      "MAE: 1.584813\n",
      "MSE: 14.593910\n"
     ]
    }
   ],
   "source": [
    "print(\"MAE: %f\" % mean_absolute_error(y_val, y_pred))\n",
    "print(\"MSE: %f\" % mean_squared_error(y_val, y_pred))"
   ]
  },
  {
   "cell_type": "code",
   "execution_count": 11,
   "metadata": {},
   "outputs": [
    {
     "data": {
      "text/plain": [
       "<matplotlib.axes._subplots.AxesSubplot at 0x128020828>"
      ]
     },
     "execution_count": 11,
     "metadata": {},
     "output_type": "execute_result"
    },
    {
     "data": {
      "image/png": "[encoded data removed]",
      "text/plain": [
       "<Figure size 468x468 with 1 Axes>"
      ]
     },
     "metadata": {
      "needs_background": "light"
     },
     "output_type": "display_data"
    }
   ],
   "source": [
    "f, ax = plt.subplots(figsize=(6.5, 6.5))\n",
    "sns.scatterplot(x=y_pred.reshape(-1), y=y_val)"
   ]
  },
  {
   "cell_type": "code",
   "execution_count": 31,
   "metadata": {},
   "outputs": [
    {
     "data": {
      "text/plain": [
       "(40383, 1)"
      ]
     },
     "execution_count": 31,
     "metadata": {},
     "output_type": "execute_result"
    }
   ],
   "source": [
    "y_pred.shape"
   ]
  },
  {
   "cell_type": "code",
   "execution_count": null,
   "metadata": {},
   "outputs": [],
   "source": []
  }
 ],
 "metadata": {
  "kernelspec": {
   "display_name": "Python 3",
   "language": "python",
   "name": "python3"
  },
  "language_info": {
   "codemirror_mode": {
    "name": "ipython",
    "version": 3
   },
   "file_extension": ".py",
   "mimetype": "text/x-python",
   "name": "python",
   "nbconvert_exporter": "python",
   "pygments_lexer": "ipython3",
   "version": "3.7.2"
  }
 },
 "nbformat": 4,
 "nbformat_minor": 2
}
